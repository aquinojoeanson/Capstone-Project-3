{
 "cells": [
  {
   "cell_type": "markdown",
   "metadata": {
    "colab_type": "text",
    "id": "Tia3MP1SJpgj"
   },
   "source": [
    "# Springboard Data Science Career Track Unit 4 Challenge - Tier 3 Complete\n",
    "\n",
    "## Objectives\n",
    "Hey! Great job getting through those challenging DataCamp courses. You're learning a lot in a short span of time. \n",
    "\n",
    "In this notebook, you're going to apply the skills you've been learning, bridging the gap between the controlled environment of DataCamp and the *slightly* messier work that data scientists do with actual datasets!\n",
    "\n",
    "Here’s the mystery we’re going to solve: ***which boroughs of London have seen the greatest increase in housing prices, on average, over the last two decades?***\n",
    "\n",
    "\n",
    "A borough is just a fancy word for district. You may be familiar with the five boroughs of New York… well, there are 32 boroughs within Greater London [(here's some info for the curious)](https://en.wikipedia.org/wiki/London_boroughs). Some of them are more desirable areas to live in, and the data will reflect that with a greater rise in housing prices.\n",
    "\n",
    "***This is the Tier 3 notebook, which means it's not filled in at all: we'll just give you the skeleton of a project, the brief and the data. It's up to you to play around with it and see what you can find out! Good luck! If you struggle, feel free to look at easier tiers for help; but try to dip in and out of them, as the more independent work you do, the better it is for your learning!***\n",
    "\n",
    "This challenge will make use of only what you learned in the following DataCamp courses: \n",
    "- Prework courses (Introduction to Python for Data Science, Intermediate Python for Data Science)\n",
    "- Data Types for Data Science\n",
    "- Python Data Science Toolbox (Part One) \n",
    "- pandas Foundations\n",
    "- Manipulating DataFrames with pandas\n",
    "- Merging DataFrames with pandas\n",
    "\n",
    "Of the tools, techniques and concepts in the above DataCamp courses, this challenge should require the application of the following: \n",
    "- **pandas**\n",
    "    - **data ingestion and inspection** (pandas Foundations, Module One) \n",
    "    - **exploratory data analysis** (pandas Foundations, Module Two)\n",
    "    - **tidying and cleaning** (Manipulating DataFrames with pandas, Module Three) \n",
    "    - **transforming DataFrames** (Manipulating DataFrames with pandas, Module One)\n",
    "    - **subsetting DataFrames with lists** (Manipulating DataFrames with pandas, Module One) \n",
    "    - **filtering DataFrames** (Manipulating DataFrames with pandas, Module One) \n",
    "    - **grouping data** (Manipulating DataFrames with pandas, Module Four) \n",
    "    - **melting data** (Manipulating DataFrames with pandas, Module Three) \n",
    "    - **advanced indexing** (Manipulating DataFrames with pandas, Module Four) \n",
    "- **matplotlib** (Intermediate Python for Data Science, Module One)\n",
    "- **fundamental data types** (Data Types for Data Science, Module One) \n",
    "- **dictionaries** (Intermediate Python for Data Science, Module Two)\n",
    "- **handling dates and times** (Data Types for Data Science, Module Four)\n",
    "- **function definition** (Python Data Science Toolbox - Part One, Module One)\n",
    "- **default arguments, variable length, and scope** (Python Data Science Toolbox - Part One, Module Two) \n",
    "- **lambda functions and error handling** (Python Data Science Toolbox - Part One, Module Four) "
   ]
  },
  {
   "cell_type": "markdown",
   "metadata": {
    "colab_type": "text",
    "id": "Ipgd2nV8Jpgl"
   },
   "source": [
    "## The Data Science Pipeline\n",
    "\n",
    "This is Tier Three, so we'll get you started. But after that, it's all in your hands! When you feel done with your investigations, look back over what you've accomplished, and prepare a quick presentation of your findings for the next mentor meeting. \n",
    "\n",
    "Data Science is magical. In this case study, you'll get to apply some complex machine learning algorithms. But as  [David Spiegelhalter](https://www.youtube.com/watch?v=oUs1uvsz0Ok) reminds us, there is no substitute for simply **taking a really, really good look at the data.** Sometimes, this is all we need to answer our question.\n",
    "\n",
    "Data Science projects generally adhere to the four stages of Data Science Pipeline:\n",
    "1. Sourcing and loading \n",
    "2. Cleaning, transforming, and visualizing \n",
    "3. Modeling \n",
    "4. Evaluating and concluding \n"
   ]
  },
  {
   "cell_type": "markdown",
   "metadata": {
    "colab_type": "text",
    "id": "zswDqbefJpgm"
   },
   "source": [
    "### 1. Sourcing and Loading \n",
    "\n",
    "Any Data Science project kicks off by importing  ***pandas***. The documentation of this wonderful library can be found [here](https://pandas.pydata.org/). As you've seen, pandas is conveniently connected to the [Numpy](http://www.numpy.org/) and [Matplotlib](https://matplotlib.org/) libraries. \n",
    "\n",
    "***Hint:*** This part of the data science pipeline will test those skills you acquired in the pandas Foundations course, Module One. "
   ]
  },
  {
   "cell_type": "markdown",
   "metadata": {
    "colab_type": "text",
    "id": "aEau5nEvJpgm"
   },
   "source": [
    "#### 1.1. Importing Libraries"
   ]
  },
  {
   "cell_type": "code",
   "execution_count": 1,
   "metadata": {
    "colab": {},
    "colab_type": "code",
    "id": "7Bt_Q_oPJpgn"
   },
   "outputs": [],
   "source": [
    "# Let's import the pandas, numpy libraries as pd, and np respectively. \n",
    "\n",
    "import pandas as pd\n",
    "import numpy as np\n",
    "\n",
    "# Load the pyplot collection of functions from matplotlib, as plt \n",
    "\n",
    "import matplotlib.pyplot as plt\n"
   ]
  },
  {
   "cell_type": "markdown",
   "metadata": {
    "colab_type": "text",
    "id": "koUrawxsJpgq"
   },
   "source": [
    "#### 1.2.  Loading the data\n",
    "Your data comes from the [London Datastore](https://data.london.gov.uk/): a free, open-source data-sharing portal for London-oriented datasets. "
   ]
  },
  {
   "cell_type": "code",
   "execution_count": 2,
   "metadata": {
    "colab": {},
    "colab_type": "code",
    "id": "AiLiD4v3Jpgr"
   },
   "outputs": [],
   "source": [
    "# First, make a variable called url_LondonHousePrices, and assign it the following link, enclosed in quotation-marks as a string:\n",
    "# https://data.london.gov.uk/download/uk-house-price-index/70ac0766-8902-4eb5-aab5-01951aaed773/UK%20House%20price%20index.xls\n",
    "\n",
    "url_LondonHousePrices = \"https://data.london.gov.uk/download/uk-house-price-index/70ac0766-8902-4eb5-aab5-01951aaed773/UK%20House%20price%20index.xls\"\n",
    "\n",
    "# The dataset we're interested in contains the Average prices of the houses, and is actually on a particular sheet of the Excel file. \n",
    "# As a result, we need to specify the sheet name in the read_excel() method.\n",
    "# Put this data into a variable called properties.  \n",
    "properties = pd.read_excel(url_LondonHousePrices, sheet_name='Average price', index_col= None)"
   ]
  },
  {
   "cell_type": "markdown",
   "metadata": {
    "colab_type": "text",
    "id": "POukEJXgJpgu"
   },
   "source": [
    "### 2. Cleaning, transforming, and visualizing\n",
    "This second stage is arguably the most important part of any Data Science project. The first thing to do is take a proper look at the data. Cleaning forms the majority of this stage, and can be done both before or after Transformation.\n",
    "\n",
    "The end goal of data cleaning is to have tidy data. When data is tidy: \n",
    "\n",
    "1. Each variable has a column.\n",
    "2. Each observation forms a row.\n",
    "\n",
    "Keep the end goal in mind as you move through this process, every step will take you closer. \n",
    "\n",
    "\n",
    "\n",
    "***Hint:*** This part of the data science pipeline should test those skills you acquired in: \n",
    "- Intermediate Python for data science, all modules.\n",
    "- pandas Foundations, all modules. \n",
    "- Manipulating DataFrames with pandas, all modules.\n",
    "- Data Types for Data Science, Module Four.\n",
    "- Python Data Science Toolbox - Part One, all modules"
   ]
  },
  {
   "cell_type": "markdown",
   "metadata": {
    "colab_type": "text",
    "id": "Te0Q548tnzZa"
   },
   "source": [
    "**2.1. Exploring your data** \n",
    "\n",
    "Think about your pandas functions for checking out a dataframe. "
   ]
  },
  {
   "cell_type": "code",
   "execution_count": 3,
   "metadata": {
    "colab": {},
    "colab_type": "code",
    "id": "Rxirxw_qoAJa"
   },
   "outputs": [
    {
     "data": {
      "text/html": [
       "<div>\n",
       "<style scoped>\n",
       "    .dataframe tbody tr th:only-of-type {\n",
       "        vertical-align: middle;\n",
       "    }\n",
       "\n",
       "    .dataframe tbody tr th {\n",
       "        vertical-align: top;\n",
       "    }\n",
       "\n",
       "    .dataframe thead th {\n",
       "        text-align: right;\n",
       "    }\n",
       "</style>\n",
       "<table border=\"1\" class=\"dataframe\">\n",
       "  <thead>\n",
       "    <tr style=\"text-align: right;\">\n",
       "      <th></th>\n",
       "      <th>Unnamed: 0</th>\n",
       "      <th>City of London</th>\n",
       "      <th>Barking &amp; Dagenham</th>\n",
       "      <th>Barnet</th>\n",
       "      <th>Bexley</th>\n",
       "      <th>Brent</th>\n",
       "      <th>Bromley</th>\n",
       "      <th>Camden</th>\n",
       "      <th>Croydon</th>\n",
       "      <th>Ealing</th>\n",
       "      <th>...</th>\n",
       "      <th>NORTH WEST</th>\n",
       "      <th>YORKS &amp; THE HUMBER</th>\n",
       "      <th>EAST MIDLANDS</th>\n",
       "      <th>WEST MIDLANDS</th>\n",
       "      <th>EAST OF ENGLAND</th>\n",
       "      <th>LONDON</th>\n",
       "      <th>SOUTH EAST</th>\n",
       "      <th>SOUTH WEST</th>\n",
       "      <th>Unnamed: 47</th>\n",
       "      <th>England</th>\n",
       "    </tr>\n",
       "  </thead>\n",
       "  <tbody>\n",
       "    <tr>\n",
       "      <th>0</th>\n",
       "      <td>NaT</td>\n",
       "      <td>E09000001</td>\n",
       "      <td>E09000002</td>\n",
       "      <td>E09000003</td>\n",
       "      <td>E09000004</td>\n",
       "      <td>E09000005</td>\n",
       "      <td>E09000006</td>\n",
       "      <td>E09000007</td>\n",
       "      <td>E09000008</td>\n",
       "      <td>E09000009</td>\n",
       "      <td>...</td>\n",
       "      <td>E12000002</td>\n",
       "      <td>E12000003</td>\n",
       "      <td>E12000004</td>\n",
       "      <td>E12000005</td>\n",
       "      <td>E12000006</td>\n",
       "      <td>E12000007</td>\n",
       "      <td>E12000008</td>\n",
       "      <td>E12000009</td>\n",
       "      <td>NaN</td>\n",
       "      <td>E92000001</td>\n",
       "    </tr>\n",
       "    <tr>\n",
       "      <th>1</th>\n",
       "      <td>1995-01-01</td>\n",
       "      <td>91448.98487</td>\n",
       "      <td>50460.2266</td>\n",
       "      <td>93284.51832</td>\n",
       "      <td>64958.09036</td>\n",
       "      <td>71306.56698</td>\n",
       "      <td>81671.47692</td>\n",
       "      <td>120932.8881</td>\n",
       "      <td>69158.16225</td>\n",
       "      <td>79885.89069</td>\n",
       "      <td>...</td>\n",
       "      <td>43958.48001</td>\n",
       "      <td>44803.42878</td>\n",
       "      <td>45544.52227</td>\n",
       "      <td>48527.52339</td>\n",
       "      <td>56701.5961</td>\n",
       "      <td>74435.76052</td>\n",
       "      <td>64018.87894</td>\n",
       "      <td>54705.1579</td>\n",
       "      <td>NaN</td>\n",
       "      <td>53202.77128</td>\n",
       "    </tr>\n",
       "    <tr>\n",
       "      <th>2</th>\n",
       "      <td>1995-02-01</td>\n",
       "      <td>82202.77314</td>\n",
       "      <td>51085.77983</td>\n",
       "      <td>93190.16963</td>\n",
       "      <td>64787.92069</td>\n",
       "      <td>72022.26197</td>\n",
       "      <td>81657.55944</td>\n",
       "      <td>119508.8622</td>\n",
       "      <td>68951.09542</td>\n",
       "      <td>80897.06551</td>\n",
       "      <td>...</td>\n",
       "      <td>43925.42289</td>\n",
       "      <td>44528.80721</td>\n",
       "      <td>46051.57066</td>\n",
       "      <td>49341.29029</td>\n",
       "      <td>56593.59475</td>\n",
       "      <td>72777.93709</td>\n",
       "      <td>63715.02399</td>\n",
       "      <td>54356.14843</td>\n",
       "      <td>NaN</td>\n",
       "      <td>53096.1549</td>\n",
       "    </tr>\n",
       "    <tr>\n",
       "      <th>3</th>\n",
       "      <td>1995-03-01</td>\n",
       "      <td>79120.70256</td>\n",
       "      <td>51268.96956</td>\n",
       "      <td>92247.52435</td>\n",
       "      <td>64367.49344</td>\n",
       "      <td>72015.76274</td>\n",
       "      <td>81449.31143</td>\n",
       "      <td>120282.2131</td>\n",
       "      <td>68712.44341</td>\n",
       "      <td>81379.86288</td>\n",
       "      <td>...</td>\n",
       "      <td>44434.8681</td>\n",
       "      <td>45200.46775</td>\n",
       "      <td>45383.82395</td>\n",
       "      <td>49442.17973</td>\n",
       "      <td>56171.18278</td>\n",
       "      <td>73896.84204</td>\n",
       "      <td>64113.60858</td>\n",
       "      <td>53583.07667</td>\n",
       "      <td>NaN</td>\n",
       "      <td>53201.2843</td>\n",
       "    </tr>\n",
       "    <tr>\n",
       "      <th>4</th>\n",
       "      <td>1995-04-01</td>\n",
       "      <td>77101.20804</td>\n",
       "      <td>53133.50526</td>\n",
       "      <td>90762.87492</td>\n",
       "      <td>64277.66881</td>\n",
       "      <td>72965.63094</td>\n",
       "      <td>81124.41227</td>\n",
       "      <td>120097.899</td>\n",
       "      <td>68610.04641</td>\n",
       "      <td>82188.90498</td>\n",
       "      <td>...</td>\n",
       "      <td>44267.7796</td>\n",
       "      <td>45614.34341</td>\n",
       "      <td>46124.23045</td>\n",
       "      <td>49455.93299</td>\n",
       "      <td>56567.89582</td>\n",
       "      <td>74455.28754</td>\n",
       "      <td>64623.22395</td>\n",
       "      <td>54786.01938</td>\n",
       "      <td>NaN</td>\n",
       "      <td>53590.8548</td>\n",
       "    </tr>\n",
       "  </tbody>\n",
       "</table>\n",
       "<p>5 rows × 49 columns</p>\n",
       "</div>"
      ],
      "text/plain": [
       "  Unnamed: 0 City of London Barking & Dagenham       Barnet       Bexley  \\\n",
       "0        NaT      E09000001          E09000002    E09000003    E09000004   \n",
       "1 1995-01-01    91448.98487         50460.2266  93284.51832  64958.09036   \n",
       "2 1995-02-01    82202.77314        51085.77983  93190.16963  64787.92069   \n",
       "3 1995-03-01    79120.70256        51268.96956  92247.52435  64367.49344   \n",
       "4 1995-04-01    77101.20804        53133.50526  90762.87492  64277.66881   \n",
       "\n",
       "         Brent      Bromley       Camden      Croydon       Ealing  ...  \\\n",
       "0    E09000005    E09000006    E09000007    E09000008    E09000009  ...   \n",
       "1  71306.56698  81671.47692  120932.8881  69158.16225  79885.89069  ...   \n",
       "2  72022.26197  81657.55944  119508.8622  68951.09542  80897.06551  ...   \n",
       "3  72015.76274  81449.31143  120282.2131  68712.44341  81379.86288  ...   \n",
       "4  72965.63094  81124.41227   120097.899  68610.04641  82188.90498  ...   \n",
       "\n",
       "    NORTH WEST YORKS & THE HUMBER EAST MIDLANDS WEST MIDLANDS EAST OF ENGLAND  \\\n",
       "0    E12000002          E12000003     E12000004     E12000005       E12000006   \n",
       "1  43958.48001        44803.42878   45544.52227   48527.52339      56701.5961   \n",
       "2  43925.42289        44528.80721   46051.57066   49341.29029     56593.59475   \n",
       "3   44434.8681        45200.46775   45383.82395   49442.17973     56171.18278   \n",
       "4   44267.7796        45614.34341   46124.23045   49455.93299     56567.89582   \n",
       "\n",
       "        LONDON   SOUTH EAST   SOUTH WEST Unnamed: 47      England  \n",
       "0    E12000007    E12000008    E12000009         NaN    E92000001  \n",
       "1  74435.76052  64018.87894   54705.1579         NaN  53202.77128  \n",
       "2  72777.93709  63715.02399  54356.14843         NaN   53096.1549  \n",
       "3  73896.84204  64113.60858  53583.07667         NaN   53201.2843  \n",
       "4  74455.28754  64623.22395  54786.01938         NaN   53590.8548  \n",
       "\n",
       "[5 rows x 49 columns]"
      ]
     },
     "execution_count": 3,
     "metadata": {},
     "output_type": "execute_result"
    }
   ],
   "source": [
    "properties.head()\n"
   ]
  },
  {
   "cell_type": "markdown",
   "metadata": {
    "colab_type": "text",
    "id": "tE9Sqt9-oAta"
   },
   "source": [
    "**2.2. Cleaning the data**\n",
    "\n",
    "You might find you need to transpose your dataframe, check out what its row indexes are, and reset the index. You  also might find you need to assign the values of the first row to your column headings  . (Hint: recall the .columns feature of DataFrames, as well as the iloc[] method).\n",
    "\n",
    "Don't be afraid to use StackOverflow for help  with this."
   ]
  },
  {
   "cell_type": "code",
   "execution_count": 4,
   "metadata": {
    "colab": {},
    "colab_type": "code",
    "id": "cdAu1A3YoH_r"
   },
   "outputs": [
    {
     "data": {
      "text/plain": [
       "<bound method NDFrame.head of 0             Unnamed: 0        NaT 1995-01-01 00:00:00 1995-02-01 00:00:00  \\\n",
       "1         City of London  E09000001         91448.98487         82202.77314   \n",
       "2     Barking & Dagenham  E09000002          50460.2266         51085.77983   \n",
       "3                 Barnet  E09000003         93284.51832         93190.16963   \n",
       "4                 Bexley  E09000004         64958.09036         64787.92069   \n",
       "5                  Brent  E09000005         71306.56698         72022.26197   \n",
       "6                Bromley  E09000006         81671.47692         81657.55944   \n",
       "7                 Camden  E09000007         120932.8881         119508.8622   \n",
       "8                Croydon  E09000008         69158.16225         68951.09542   \n",
       "9                 Ealing  E09000009         79885.89069         80897.06551   \n",
       "10               Enfield  E09000010         72514.69096         73155.19746   \n",
       "11             Greenwich  E09000011         62300.10169         60993.26863   \n",
       "12               Hackney  E09000012         61296.52637         63187.08332   \n",
       "13  Hammersmith & Fulham  E09000013         124902.8602          122087.718   \n",
       "14              Haringey  E09000014         76287.56947         78901.21036   \n",
       "15                Harrow  E09000015         84769.52599         83396.10525   \n",
       "16              Havering  E09000016         68000.13774         69393.51294   \n",
       "17            Hillingdon  E09000017         73834.82964          75031.0696   \n",
       "18              Hounslow  E09000018         72231.70537         71051.55852   \n",
       "19             Islington  E09000019         92516.48557         94342.37334   \n",
       "20  Kensington & Chelsea  E09000020         182694.8326         182345.2463   \n",
       "21  Kingston upon Thames  E09000021         80875.84843         81230.13524   \n",
       "22               Lambeth  E09000022         67770.98843         65381.51908   \n",
       "23              Lewisham  E09000023         60491.26109         60869.27091   \n",
       "24                Merton  E09000024          82070.6133         79982.74872   \n",
       "25                Newham  E09000025         53539.31919         53153.88306   \n",
       "26             Redbridge  E09000026         72189.58437          72141.6261   \n",
       "27  Richmond upon Thames  E09000027         109326.1245         111103.0394   \n",
       "28             Southwark  E09000028         67885.20344          64799.0648   \n",
       "29                Sutton  E09000029         71536.97357         70893.20851   \n",
       "30         Tower Hamlets  E09000030         59865.18995         62318.53353   \n",
       "31        Waltham Forest  E09000031         61319.44913         60252.12246   \n",
       "32            Wandsworth  E09000032         88559.04381         88641.01678   \n",
       "33           Westminster  E09000033         133025.2772         131468.3096   \n",
       "34           Unnamed: 34        NaN                 NaN                 NaN   \n",
       "35          Inner London  E13000001          78251.9765         75885.70201   \n",
       "36          Outer London  E13000002         72958.79836         72937.88262   \n",
       "37           Unnamed: 37        NaN                 NaN                 NaN   \n",
       "38            NORTH EAST  E12000001         42076.35411         42571.98949   \n",
       "39            NORTH WEST  E12000002         43958.48001         43925.42289   \n",
       "40    YORKS & THE HUMBER  E12000003         44803.42878         44528.80721   \n",
       "41         EAST MIDLANDS  E12000004         45544.52227         46051.57066   \n",
       "42         WEST MIDLANDS  E12000005         48527.52339         49341.29029   \n",
       "43       EAST OF ENGLAND  E12000006          56701.5961         56593.59475   \n",
       "44                LONDON  E12000007         74435.76052         72777.93709   \n",
       "45            SOUTH EAST  E12000008         64018.87894         63715.02399   \n",
       "46            SOUTH WEST  E12000009          54705.1579         54356.14843   \n",
       "47           Unnamed: 47        NaN                 NaN                 NaN   \n",
       "48               England  E92000001         53202.77128          53096.1549   \n",
       "\n",
       "0  1995-03-01 00:00:00 1995-04-01 00:00:00 1995-05-01 00:00:00  \\\n",
       "1          79120.70256         77101.20804         84409.14932   \n",
       "2          51268.96956         53133.50526         53042.24852   \n",
       "3          92247.52435         90762.87492         90258.00033   \n",
       "4          64367.49344         64277.66881         63997.13588   \n",
       "5          72015.76274         72965.63094         73704.04743   \n",
       "6          81449.31143         81124.41227         81542.61561   \n",
       "7          120282.2131          120097.899         119929.2782   \n",
       "8          68712.44341         68610.04641          68844.9169   \n",
       "9          81379.86288         82188.90498         82077.05525   \n",
       "10         72190.44144         71442.92235         70630.77955   \n",
       "11         61377.83464          61927.7246         63512.99103   \n",
       "12         63593.29935         65139.64403         66193.99212   \n",
       "13         120635.9467         121424.6241          124433.539   \n",
       "14         78521.94855         79545.57477          79374.0349   \n",
       "15         83416.23759         83567.88439         83853.65615   \n",
       "16         69368.02407         69444.26215         68534.52248   \n",
       "17         74188.66949         73911.40591         73117.12416   \n",
       "18         72097.99411         71890.28339         72877.47219   \n",
       "19         93465.86407         93344.49305         94346.39917   \n",
       "20         182878.8231         184176.9168         191474.1141   \n",
       "21         81111.48848         81672.80476         82123.51084   \n",
       "22         66336.51868          66388.7716         69035.11076   \n",
       "23         60288.03002         59471.03136         58551.38387   \n",
       "24         80661.68279         79990.54333         80873.98643   \n",
       "25         53458.26393         54479.75395         55803.95958   \n",
       "26         72501.35502         72228.60295         72366.64122   \n",
       "27         107325.4742              106875         107707.6799   \n",
       "28         65763.29719         63073.62117         64420.49933   \n",
       "29         70306.83844          69411.9439         69759.21989   \n",
       "30         63938.67686         66233.19383         66432.85846   \n",
       "31         60871.08493         60971.39722         61494.16938   \n",
       "32         87124.81523         87026.00225         86518.05945   \n",
       "33         132260.3417         133370.2036         133911.1117   \n",
       "34                 NaN                 NaN                 NaN   \n",
       "35         76591.59947         76851.56697         79129.19443   \n",
       "36         72714.53478         72591.92469         72752.99414   \n",
       "37                 NaN                 NaN                 NaN   \n",
       "38         42369.72984          42095.8436         43266.45165   \n",
       "39          44434.8681          44267.7796         44223.61973   \n",
       "40         45200.46775         45614.34341         44830.98563   \n",
       "41         45383.82395         46124.23045         45878.00396   \n",
       "42         49442.17973         49455.93299         50369.66188   \n",
       "43         56171.18278         56567.89582         56479.80183   \n",
       "44         73896.84204         74455.28754         75432.02786   \n",
       "45         64113.60858         64623.22395         64530.36358   \n",
       "46         53583.07667         54786.01938         54698.83831   \n",
       "47                 NaN                 NaN                 NaN   \n",
       "48          53201.2843          53590.8548         53678.24041   \n",
       "\n",
       "0  1995-06-01 00:00:00 1995-07-01 00:00:00 1995-08-01 00:00:00  ...  \\\n",
       "1          94900.51244         110128.0423         112329.4376  ...   \n",
       "2          53700.34831         52113.12157         52232.19868  ...   \n",
       "3          90107.23471         91441.24768         92361.31512  ...   \n",
       "4          64252.32335         63722.70055         64432.60005  ...   \n",
       "5          74310.48167         74127.03788          73547.0411  ...   \n",
       "6          82382.83435         82898.52264         82054.37156  ...   \n",
       "7          121887.4625         124027.5768         125529.8039  ...   \n",
       "8          69052.51103         69142.48112         68993.42545  ...   \n",
       "9          81630.66181          82352.2226         82706.65927  ...   \n",
       "10         71348.31147         71837.54011         72237.94562  ...   \n",
       "11         64751.56404         65486.34112         65076.43195  ...   \n",
       "12         66921.17101           68390.753         68096.79385  ...   \n",
       "13         126175.1513         124381.5134         123625.3196  ...   \n",
       "14          79956.3621         80746.34881         81217.69074  ...   \n",
       "15         84173.24689         84226.69844         84430.61796  ...   \n",
       "16         68464.60664         68680.83996         69023.36482  ...   \n",
       "17         74005.00585         74671.13263         74967.86534  ...   \n",
       "18         72331.08116         73717.78844         74479.94802  ...   \n",
       "19         97428.94311         98976.14077         98951.20791  ...   \n",
       "20         197265.7602         197963.3169         198037.4218  ...   \n",
       "21         82205.66822           82525.793         83342.84552  ...   \n",
       "22         68881.15764         69608.72242         68840.02827  ...   \n",
       "23         58041.43543         58126.37811          58151.3154  ...   \n",
       "24         80704.92667         81055.90335         80781.09186  ...   \n",
       "25         56067.76986         55458.31693         54709.35467  ...   \n",
       "26          72279.4325         72880.83974         73275.16891  ...   \n",
       "27         112865.0542         114656.6011         112320.4096  ...   \n",
       "28         64155.81449         67024.74767         65525.94434  ...   \n",
       "29         70125.24728         70789.57284         69958.41918  ...   \n",
       "30         66232.16372         64692.22672         63472.27558  ...   \n",
       "31         61547.79643         61933.52738          61916.4222  ...   \n",
       "32          88114.3351         89830.58934         90560.68078  ...   \n",
       "33         134562.1941         133450.2162         136581.5082  ...   \n",
       "34                 NaN                 NaN                 NaN  ...   \n",
       "35          79969.1525         80550.47935         80597.64563  ...   \n",
       "36         73189.39978         73665.90517         73691.12888  ...   \n",
       "37                 NaN                 NaN                 NaN  ...   \n",
       "38         42315.34372         43287.74323         41899.05494  ...   \n",
       "39         44112.96432         44109.58764         44193.66583  ...   \n",
       "40         45392.63981         45534.99864         45111.45939  ...   \n",
       "41         45679.99539         46037.67312         45922.53585  ...   \n",
       "42         50100.43023         49860.00809         49598.45969  ...   \n",
       "43         56288.94557         57242.30186         56732.40547  ...   \n",
       "44         75606.24501         75984.24079         75529.34488  ...   \n",
       "45           65511.008         65224.88465         64851.60429  ...   \n",
       "46         54420.15939         54265.86368         54365.71495  ...   \n",
       "47                 NaN                 NaN                 NaN  ...   \n",
       "48         53735.15475         53900.60633         53600.31975  ...   \n",
       "\n",
       "0  2021-12-01 00:00:00 2022-01-01 00:00:00 2022-02-01 00:00:00  \\\n",
       "1          809376.0744        791256.55529        812252.95632   \n",
       "2          330850.6123        335893.27551        339026.78213   \n",
       "3          574877.2915        575084.26724        571707.94996   \n",
       "4          378364.5877        381004.84299        383823.13326   \n",
       "5           522416.266        518481.15225         517970.8663   \n",
       "6          478676.0234        475401.83438        479635.87133   \n",
       "7          884055.4369        877025.75583        873205.77541   \n",
       "8          407217.0183        403965.04869        405547.17558   \n",
       "9          515679.4044        517944.42707        519375.94171   \n",
       "10         432685.8242        432632.40661        433376.50665   \n",
       "11         409842.9521        411531.65477         412800.5768   \n",
       "12           596043.75        632617.27613        639071.45417   \n",
       "13         771329.7723        754600.57956        760247.45375   \n",
       "14         576527.5712         590742.1633        591865.60988   \n",
       "15         499745.5308        505256.62439         513690.5728   \n",
       "16         402471.4542        405225.73801        406060.70754   \n",
       "17         440275.7327        439440.35487        441370.11304   \n",
       "18         429913.5775        425835.59265        429274.72018   \n",
       "19         732284.1628        706361.26054        697880.23743   \n",
       "20         1394456.891        1392292.8861        1412310.9836   \n",
       "21         529652.4832        528193.56331          522867.916   \n",
       "22          541321.554        533613.29134        543772.37577   \n",
       "23         439427.7919        432402.89609        438249.58482   \n",
       "24         581997.0405        561996.99237        553748.89263   \n",
       "25          388008.129        395024.40847        394077.12133   \n",
       "26         469192.1478        468604.54042        469518.80749   \n",
       "27          749099.169        733724.45057        738618.68478   \n",
       "28          516019.715        522904.77182        527572.96171   \n",
       "29          410206.777          414298.383        418980.21358   \n",
       "30         440311.3435        448403.51715        457007.06809   \n",
       "31         473703.1011        477663.85803         477348.6006   \n",
       "32         642082.9944         626966.3802        632817.20163   \n",
       "33         1049442.911        1063372.8739        1066869.4659   \n",
       "34                 NaN                 NaN                 NaN   \n",
       "35         608430.1488        608514.31695         613784.1244   \n",
       "36         466580.9461         465809.0725        467280.97942   \n",
       "37                 NaN                 NaN                 NaN   \n",
       "38         148533.5889        149309.48693        149905.91364   \n",
       "39           198728.35        200794.61942        201937.10158   \n",
       "40         192954.5093        195822.91442        197561.84243   \n",
       "41         230797.8507        232714.53786        234383.76059   \n",
       "42         233925.6415        235200.04918        235790.47345   \n",
       "43          335272.183        337696.89981         341469.3321   \n",
       "44         515116.2809        518909.23814        520168.04165   \n",
       "45         370484.0914        376720.99036        376220.41298   \n",
       "46         306202.0301          308790.092        310117.89462   \n",
       "47                 NaN                 NaN                 NaN   \n",
       "48         288576.0968        291491.61424        292824.52476   \n",
       "\n",
       "0  2022-03-01 00:00:00 2022-04-01 00:00:00 2022-05-01 00:00:00  \\\n",
       "1         781352.06276        812591.30895        799112.90021   \n",
       "2         339587.54012        334919.74487        338354.76544   \n",
       "3         574786.90432        586305.51077        593610.06794   \n",
       "4         388227.04658        386283.59143         386991.6035   \n",
       "5         520571.04595        530905.75625         537233.4569   \n",
       "6         480595.05303        487989.86632         490048.2892   \n",
       "7         882534.46738        871398.92279        848784.16476   \n",
       "8         408804.02663        414708.77253        416937.62725   \n",
       "9         517944.32963        516226.02661        520938.06858   \n",
       "10        435305.99938        442153.57695        447390.37428   \n",
       "11        418186.03747        418829.00658        429510.72335   \n",
       "12        628914.27086         609849.5196        606090.05968   \n",
       "13        751706.11621        744904.00311        741088.84837   \n",
       "14        592845.88866        580970.33922        586168.91061   \n",
       "15        507449.28666        499543.80832        505909.44303   \n",
       "16        407849.16984        415928.82221        420196.09777   \n",
       "17        447179.91397        448847.21332        450569.74973   \n",
       "18        422651.77147        426513.73015        426290.63967   \n",
       "19         700780.9218         717522.0263        730494.17247   \n",
       "20        1457670.0912        1471482.7553        1442633.0252   \n",
       "21         527932.2985        522231.59618        533134.56951   \n",
       "22        544622.88743         547291.1134           542950.69   \n",
       "23        448526.40907        448266.21994        449174.02136   \n",
       "24        544679.32093        555081.68685        563496.46133   \n",
       "25        402895.55074        398724.32354        405703.71898   \n",
       "26        469467.13357        469880.81028        460700.05559   \n",
       "27        748941.39028        759757.75174        754409.86181   \n",
       "28         526353.8526        528865.92988        532597.66437   \n",
       "29        420358.66741        421109.62215        423847.07944   \n",
       "30        463228.22367        467469.54895        472984.94022   \n",
       "31        479428.40171        481061.30842        486324.40275   \n",
       "32        640198.93099        649145.04191         640948.4608   \n",
       "33        1061355.7392         1020945.493        977617.35304   \n",
       "34                 NaN                 NaN                 NaN   \n",
       "35        618151.67939        617174.68264        614632.27122   \n",
       "36        469070.38846        472608.48803        476069.68022   \n",
       "37                 NaN                 NaN                 NaN   \n",
       "38        151942.99102        153477.78342         154081.7138   \n",
       "39        202926.39091        204797.91544          207536.922   \n",
       "40        197111.29492        199875.20826        204301.97946   \n",
       "41        235320.05834        238270.59327        240285.63866   \n",
       "42        238565.88311        241314.23601         244770.5897   \n",
       "43        341801.42288        343508.89184        349179.40622   \n",
       "44        518407.05136         525373.8824        525016.39408   \n",
       "45        379676.84044        381945.54513        386719.37177   \n",
       "46        312343.60305        317393.46555        321049.98637   \n",
       "47                 NaN                 NaN                 NaN   \n",
       "48        294224.85748        297287.90886        300804.05207   \n",
       "\n",
       "0  2022-06-01 00:00:00 2022-07-01 00:00:00 2022-08-01 00:00:00  \\\n",
       "1         825336.88463        809467.00534        807647.03864   \n",
       "2         346172.26327        350017.35047        349553.39135   \n",
       "3         599300.58216        595580.04753        603030.88609   \n",
       "4          390788.7034        396351.92337        404037.04985   \n",
       "5         528596.57606        547140.68358        558570.36796   \n",
       "6         503821.13534        509554.58187        524513.49676   \n",
       "7         828277.84844        834999.31458         851527.4213   \n",
       "8         417142.73067         420504.3547         428893.9065   \n",
       "9         528195.16967        533607.54101        536799.12024   \n",
       "10        449201.27768        451895.18867         455259.9215   \n",
       "11        438917.40779        440600.24422          442266.721   \n",
       "12        630607.55988        645022.49461        654897.63817   \n",
       "13        761893.91782        787054.37387        793491.05625   \n",
       "14        585981.63455        596495.10677        602213.11241   \n",
       "15        523111.94932        546016.98647        549619.18851   \n",
       "16        421612.93559        422968.61234        425519.46499   \n",
       "17         457174.9044        461630.38101        468132.47631   \n",
       "18        445209.06379        451140.37852        458882.11975   \n",
       "19        720923.68104        716312.06574        721770.75265   \n",
       "20        1425413.1843        1398587.8482        1372463.7263   \n",
       "21        537513.32859        557904.94093        561745.33094   \n",
       "22        546521.08035        551957.29362        559133.93208   \n",
       "23        453363.34314        463777.01047        473886.04786   \n",
       "24        570012.45509        578701.98104        586451.54012   \n",
       "25        407760.11886        416896.20267        415825.60286   \n",
       "26        468195.43642         478583.5365        492428.65573   \n",
       "27        759519.44398        750017.41213         774857.9042   \n",
       "28         547552.6465        559340.79213        562260.30122   \n",
       "29        434121.87457        439267.89004        443305.85401   \n",
       "30        479926.59733        483223.33615        481686.37252   \n",
       "31        493075.24105        507098.06059         520552.7073   \n",
       "32        638063.25256        639513.14873        654031.50428   \n",
       "33        970207.82944        958336.59565        975464.93045   \n",
       "34                 NaN                 NaN                 NaN   \n",
       "35        618308.46885        624782.83553        631542.56107   \n",
       "36        482572.74773         488382.2535        496058.01354   \n",
       "37                 NaN                 NaN                 NaN   \n",
       "38        156032.14638        161459.56347        163255.51272   \n",
       "39        210576.32395        216061.67221        217807.07402   \n",
       "40        205162.26385        209245.63614        212655.61276   \n",
       "41         244996.6245         246704.4501        253069.11346   \n",
       "42        245515.62993        253285.87683        254503.01144   \n",
       "43        352679.11799        357951.99544        361920.59538   \n",
       "44        535378.97383        543547.24501        547318.77421   \n",
       "45        391748.89283        397788.44628        404266.07471   \n",
       "46        321120.04987        330274.96748        335451.87224   \n",
       "47                 NaN                 NaN                 NaN   \n",
       "48        304066.15846        310247.91653        314267.70458   \n",
       "\n",
       "0  2022-09-01 00:00:00  \n",
       "1         783570.18122  \n",
       "2          350038.6948  \n",
       "3         603689.86626  \n",
       "4         405298.24258  \n",
       "5         589055.93876  \n",
       "6         523006.52701  \n",
       "7         837137.09112  \n",
       "8         434295.35243  \n",
       "9         534909.30521  \n",
       "10        457054.67028  \n",
       "11        445492.69173  \n",
       "12        652315.41844  \n",
       "13        797857.17191  \n",
       "14        620515.98509  \n",
       "15        545407.47979  \n",
       "16        431998.97191  \n",
       "17        469384.53909  \n",
       "18         458022.7517  \n",
       "19        735217.80159  \n",
       "20        1393452.6741  \n",
       "21         574926.4533  \n",
       "22        561556.25877  \n",
       "23         471809.3042  \n",
       "24         597284.3275  \n",
       "25        421435.98192  \n",
       "26        486290.80271  \n",
       "27        780053.02126  \n",
       "28         564992.0782  \n",
       "29        442884.94239  \n",
       "30        486564.35469  \n",
       "31        527883.45534  \n",
       "32        659683.04949  \n",
       "33        930184.58203  \n",
       "34                 NaN  \n",
       "35        633766.27626  \n",
       "36        499262.12694  \n",
       "37                 NaN  \n",
       "38        163768.12128  \n",
       "39        219005.25241  \n",
       "40        212593.45739  \n",
       "41         252981.8781  \n",
       "42        253863.89652  \n",
       "43        362196.90686  \n",
       "44        544113.14591  \n",
       "45        403515.15933  \n",
       "46        336583.38958  \n",
       "47                 NaN  \n",
       "48        314277.99441  \n",
       "\n",
       "[48 rows x 335 columns]>"
      ]
     },
     "execution_count": 4,
     "metadata": {},
     "output_type": "execute_result"
    }
   ],
   "source": [
    "properties_T = properties.T\n",
    "properties_T.head()\n",
    "\n",
    "properties_T.index\n",
    "properties_T = properties_T.reset_index()\n",
    "properties_T.head()\n",
    "\n",
    "properties_T.columns\n",
    "properties_T.iloc[0]\n",
    "properties_T.columns = properties_T.iloc[0]\n",
    "properties_T.head\n",
    "\n",
    "properties_T = properties_T.drop(0)\n",
    "properties_T.head\n"
   ]
  },
  {
   "cell_type": "markdown",
   "metadata": {
    "colab_type": "text",
    "id": "o1uLbJAsoIjK"
   },
   "source": [
    "**2.3. Cleaning the data (part 2)**\n",
    "\n",
    "You might we have to **rename** a couple columns. How do you do this? The clue's pretty bold..."
   ]
  },
  {
   "cell_type": "code",
   "execution_count": 5,
   "metadata": {
    "colab": {},
    "colab_type": "code",
    "id": "GKkmn1AnoVZS"
   },
   "outputs": [
    {
     "data": {
      "text/plain": [
       "Index([   'London_Borough',                'ID', 1995-01-01 00:00:00,\n",
       "       1995-02-01 00:00:00, 1995-03-01 00:00:00, 1995-04-01 00:00:00,\n",
       "       1995-05-01 00:00:00, 1995-06-01 00:00:00, 1995-07-01 00:00:00,\n",
       "       1995-08-01 00:00:00,\n",
       "       ...\n",
       "       2021-12-01 00:00:00, 2022-01-01 00:00:00, 2022-02-01 00:00:00,\n",
       "       2022-03-01 00:00:00, 2022-04-01 00:00:00, 2022-05-01 00:00:00,\n",
       "       2022-06-01 00:00:00, 2022-07-01 00:00:00, 2022-08-01 00:00:00,\n",
       "       2022-09-01 00:00:00],\n",
       "      dtype='object', name=0, length=335)"
      ]
     },
     "execution_count": 5,
     "metadata": {},
     "output_type": "execute_result"
    }
   ],
   "source": [
    "properties_T = properties_T.rename(columns = {'Unnamed: 0':'London_Borough', pd.NaT: 'ID'})\n",
    "properties_T.head\n",
    "properties_T.columns"
   ]
  },
  {
   "cell_type": "markdown",
   "metadata": {
    "colab_type": "text",
    "id": "jy8BzXHmoWEw"
   },
   "source": [
    "**2.4.Transforming the data**\n",
    "\n",
    "Remember what Wes McKinney said about tidy data? \n",
    "\n",
    "You might need to **melt** your DataFrame here. "
   ]
  },
  {
   "cell_type": "code",
   "execution_count": 6,
   "metadata": {
    "colab": {},
    "colab_type": "code",
    "id": "S2wM0qLuo2Zt"
   },
   "outputs": [
    {
     "data": {
      "text/plain": [
       "London_Borough            object\n",
       "ID                        object\n",
       "Month             datetime64[ns]\n",
       "Average_price             object\n",
       "dtype: object"
      ]
     },
     "execution_count": 6,
     "metadata": {},
     "output_type": "execute_result"
    }
   ],
   "source": [
    "clean_properties = pd.melt(properties_T, id_vars= ['London_Borough', 'ID'])\n",
    "clean_properties.head\n",
    "clean_properties = clean_properties.rename(columns = {0: 'Month', 'value': 'Average_price'})\n",
    "clean_properties.head()\n",
    "clean_properties.dtypes\n",
    "\n"
   ]
  },
  {
   "cell_type": "markdown",
   "metadata": {
    "colab_type": "text",
    "id": "7kIsgAo7o3mf"
   },
   "source": [
    "Remember to make sure your column data types are all correct. Average prices, for example, should be floating point numbers... "
   ]
  },
  {
   "cell_type": "code",
   "execution_count": 7,
   "metadata": {
    "colab": {},
    "colab_type": "code",
    "id": "ZcR4IHbcpOaq"
   },
   "outputs": [
    {
     "data": {
      "text/plain": [
       "London_Borough    15984\n",
       "ID                14985\n",
       "Month             15984\n",
       "Average_price     14985\n",
       "dtype: int64"
      ]
     },
     "execution_count": 7,
     "metadata": {},
     "output_type": "execute_result"
    }
   ],
   "source": [
    "clean_properties['Average_price'] = pd.to_numeric(clean_properties['Average_price'])\n",
    "clean_properties.dtypes\n",
    "clean_properties.count()"
   ]
  },
  {
   "cell_type": "markdown",
   "metadata": {
    "colab_type": "text",
    "id": "knLUXHLypOtw"
   },
   "source": [
    "**2.5. Cleaning the data (part 3)**\n",
    "\n",
    "Do we have an equal number of observations in the ID, Average Price, Month, and London Borough columns? Remember that there are only 32 London Boroughs. How many entries do you have in that column? \n",
    "\n",
    "Check out the contents of the London Borough column, and if you find null values, get rid of them however you see fit. "
   ]
  },
  {
   "cell_type": "code",
   "execution_count": 8,
   "metadata": {
    "colab": {},
    "colab_type": "code",
    "id": "BnvTW5a3p0fC"
   },
   "outputs": [
    {
     "name": "stdout",
     "output_type": "stream",
     "text": [
      "(15984, 4)\n",
      "(14985, 4)\n",
      "(14985, 4)\n"
     ]
    },
    {
     "data": {
      "text/plain": [
       "London_Borough            object\n",
       "ID                        object\n",
       "Month             datetime64[ns]\n",
       "Average_price            float64\n",
       "dtype: object"
      ]
     },
     "execution_count": 8,
     "metadata": {},
     "output_type": "execute_result"
    }
   ],
   "source": [
    "clean_properties['London_Borough'].unique()\n",
    "clean_properties[clean_properties['London_Borough'] == 'Unnamed: 34'].head()\n",
    "clean_properties[clean_properties['London_Borough'] == 'Unnamed: 37'].head()\n",
    "clean_properties[clean_properties['ID'].isna()]\n",
    "NaNFreeDF1= clean_properties[clean_properties['Average_price'].notna()]\n",
    "NaNFreeDF1.head(48)\n",
    "NaNFreeDF1.count()\n",
    "NaNFreeDF2 = clean_properties.dropna()\n",
    "NaNFreeDF2.head(48)\n",
    "NaNFreeDF2.count()\n",
    "NaNFreeDF2['London_Borough'].unique()\n",
    "print(clean_properties.shape)\n",
    "print(NaNFreeDF1.shape)\n",
    "print(NaNFreeDF2.shape)\n",
    "nonBoroughs = ['Inner London', 'Outer London', \n",
    "               'NORTH EAST', 'NORTH WEST', 'YORKS & THE HUMBER', \n",
    "               'EAST MIDLANDS', 'WEST MIDLANDS',\n",
    "              'EAST OF ENGLAND', 'LONDON', 'SOUTH EAST', \n",
    "              'SOUTH WEST', 'England']\n",
    "NaNFreeDF2[NaNFreeDF2.London_Borough.isin(nonBoroughs)]\n",
    "NaNFreeDF2[~NaNFreeDF2.London_Borough.isin(nonBoroughs)]\n",
    "NaNFreeDF2 = NaNFreeDF2[~NaNFreeDF2.London_Borough.isin(nonBoroughs)]\n",
    "NaNFreeDF2.head()\n",
    "df = NaNFreeDF2\n",
    "df.head()\n",
    "df.dtypes\n",
    "\n"
   ]
  },
  {
   "cell_type": "markdown",
   "metadata": {
    "colab_type": "text",
    "id": "PGEx6mJsp6dG"
   },
   "source": [
    "**2.6. Visualizing the data**\n",
    "\n",
    "To visualize the data, why not subset on a particular London Borough? Maybe do a line plot of Month against Average Price?"
   ]
  },
  {
   "cell_type": "code",
   "execution_count": 9,
   "metadata": {
    "colab": {},
    "colab_type": "code",
    "id": "nAg5pT9cqHAR"
   },
   "outputs": [
    {
     "data": {
      "text/plain": [
       "Text(0, 0.5, 'Price')"
      ]
     },
     "execution_count": 9,
     "metadata": {},
     "output_type": "execute_result"
    },
    {
     "data": {
      "image/png": "[encoded data removed]",
      "text/plain": [
       "<Figure size 432x288 with 1 Axes>"
      ]
     },
     "metadata": {
      "needs_background": "light"
     },
     "output_type": "display_data"
    }
   ],
   "source": [
    "camden_prices = df[df['London_Borough'] == 'Camden']\n",
    "ax = camden_prices.plot(kind ='line', x = 'Month', y='Average_price')\n",
    "ax.set_ylabel('Price')"
   ]
  },
  {
   "cell_type": "markdown",
   "metadata": {
    "colab_type": "text",
    "id": "aWTPqSJeqHnC"
   },
   "source": [
    "To limit the number of data points you have, you might want to extract the year from every month value your *Month* column. \n",
    "\n",
    "To this end, you *could* apply a ***lambda function***. Your logic could work as follows:\n",
    "1. look through the `Month` column\n",
    "2. extract the year from each individual value in that column \n",
    "3. store that corresponding year as separate column. \n",
    "\n",
    "Whether you go ahead with this is up to you. Just so long as you answer our initial brief: which boroughs of London have seen the greatest house price increase, on average, over the past two decades? "
   ]
  },
  {
   "cell_type": "code",
   "execution_count": 10,
   "metadata": {
    "colab": {},
    "colab_type": "code",
    "id": "e0DF92cyqnu8"
   },
   "outputs": [
    {
     "data": {
      "text/html": [
       "<div>\n",
       "<style scoped>\n",
       "    .dataframe tbody tr th:only-of-type {\n",
       "        vertical-align: middle;\n",
       "    }\n",
       "\n",
       "    .dataframe tbody tr th {\n",
       "        vertical-align: top;\n",
       "    }\n",
       "\n",
       "    .dataframe thead th {\n",
       "        text-align: right;\n",
       "    }\n",
       "</style>\n",
       "<table border=\"1\" class=\"dataframe\">\n",
       "  <thead>\n",
       "    <tr style=\"text-align: right;\">\n",
       "      <th></th>\n",
       "      <th>London_Borough</th>\n",
       "      <th>Year</th>\n",
       "      <th>Average_price</th>\n",
       "    </tr>\n",
       "  </thead>\n",
       "  <tbody>\n",
       "    <tr>\n",
       "      <th>0</th>\n",
       "      <td>Barking &amp; Dagenham</td>\n",
       "      <td>1995</td>\n",
       "      <td>51817.969390</td>\n",
       "    </tr>\n",
       "    <tr>\n",
       "      <th>1</th>\n",
       "      <td>Barking &amp; Dagenham</td>\n",
       "      <td>1996</td>\n",
       "      <td>51718.192690</td>\n",
       "    </tr>\n",
       "    <tr>\n",
       "      <th>2</th>\n",
       "      <td>Barking &amp; Dagenham</td>\n",
       "      <td>1997</td>\n",
       "      <td>55974.262309</td>\n",
       "    </tr>\n",
       "    <tr>\n",
       "      <th>3</th>\n",
       "      <td>Barking &amp; Dagenham</td>\n",
       "      <td>1998</td>\n",
       "      <td>60285.821083</td>\n",
       "    </tr>\n",
       "    <tr>\n",
       "      <th>4</th>\n",
       "      <td>Barking &amp; Dagenham</td>\n",
       "      <td>1999</td>\n",
       "      <td>65320.934441</td>\n",
       "    </tr>\n",
       "  </tbody>\n",
       "</table>\n",
       "</div>"
      ],
      "text/plain": [
       "       London_Borough  Year  Average_price\n",
       "0  Barking & Dagenham  1995   51817.969390\n",
       "1  Barking & Dagenham  1996   51718.192690\n",
       "2  Barking & Dagenham  1997   55974.262309\n",
       "3  Barking & Dagenham  1998   60285.821083\n",
       "4  Barking & Dagenham  1999   65320.934441"
      ]
     },
     "execution_count": 10,
     "metadata": {},
     "output_type": "execute_result"
    }
   ],
   "source": [
    "df['Year'] = df['Month'].apply(lambda t: t.year)\n",
    "df.tail()\n",
    "dfg = df.groupby(by=['London_Borough', 'Year']).mean()\n",
    "dfg.sample(10)\n",
    "dfg = dfg.reset_index()\n",
    "dfg.head()"
   ]
  },
  {
   "cell_type": "markdown",
   "metadata": {
    "colab_type": "text",
    "id": "2knuTxAEqoJ4"
   },
   "source": [
    "**3. Modeling**\n",
    "\n",
    "Consider creating a function that will calculate a ratio of house prices, comparing the price of a house in 2018 to the price in 1998.\n",
    "\n",
    "Consider calling this function create_price_ratio.\n",
    "\n",
    "You'd want this function to:\n",
    "1. Take a filter of dfg, specifically where this filter constrains the London_Borough, as an argument. For example, one admissible argument should be: dfg[dfg['London_Borough']=='Camden'].\n",
    "2. Get the Average Price for that Borough, for the years 1998 and 2018.\n",
    "4. Calculate the ratio of the Average Price for 1998 divided by the Average Price for 2018.\n",
    "5. Return that ratio.\n",
    "\n",
    "Once you've written this function, you ultimately want to use it to iterate through all the unique London_Boroughs and work out the ratio capturing the difference of house prices between 1998 and 2018.\n",
    "\n",
    "Bear in mind: you don't have to write a function like this if you don't want to. If you can solve the brief otherwise, then great! \n",
    "\n",
    "***Hint***: This section should test the skills you acquired in:\n",
    "- Python Data Science Toolbox - Part One, all modules"
   ]
  },
  {
   "cell_type": "code",
   "execution_count": 11,
   "metadata": {
    "colab": {},
    "colab_type": "code",
    "id": "cKTyr437UgDa",
    "scrolled": true
   },
   "outputs": [
    {
     "name": "stdout",
     "output_type": "stream",
     "text": [
      "{'Barking & Dagenham': [4.89661861291754], 'Barnet': [4.358195917538044], 'Bexley': [4.248977046127877], 'Brent': [4.8945544971392865], 'Bromley': [4.094784685333876], 'Camden': [4.935353408884261], 'City of London': [5.30162037758761], 'Croydon': [4.201100280024766], 'Ealing': [4.311450902121834], 'Enfield': [4.263471583495811], 'Greenwich': [4.7630363473291935], 'Hackney': [6.198285561008663], 'Hammersmith & Fulham': [4.13779810193623], 'Haringey': [5.134624964136042], 'Harrow': [4.0591964329643195], 'Havering': [4.325230371335307], 'Hillingdon': [4.2002730803844575], 'Hounslow': [3.976409106143329], 'Islington': [4.844048012802297], 'Kensington & Chelsea': [5.082465066092464], 'Kingston upon Thames': [4.270549521484271], 'Lambeth': [4.957751163514062], 'Lewisham': [5.449221041059686], 'Merton': [4.741273313294603], 'Newham': [5.305390437201879], 'Redbridge': [4.471182006097364], 'Richmond upon Thames': [4.005161895721457], 'Southwark': [5.516485302379378], 'Sutton': [4.118522608573157], 'Tower Hamlets': [4.62670104006116], 'Waltham Forest': [5.83475580932281], 'Wandsworth': [4.75770934773927], 'Westminster': [5.353565392605412]}\n",
      "                 Borough      2018\n",
      "11               Hackney  6.198286\n",
      "30        Waltham Forest  5.834756\n",
      "27             Southwark  5.516485\n",
      "22              Lewisham  5.449221\n",
      "32           Westminster  5.353565\n",
      "24                Newham  5.305390\n",
      "6         City of London  5.301620\n",
      "13              Haringey  5.134625\n",
      "19  Kensington & Chelsea  5.082465\n",
      "21               Lambeth  4.957751\n",
      "5                 Camden  4.935353\n",
      "0     Barking & Dagenham  4.896619\n",
      "3                  Brent  4.894554\n",
      "18             Islington  4.844048\n",
      "10             Greenwich  4.763036\n"
     ]
    },
    {
     "data": {
      "text/plain": [
       "[Text(0, 0, 'Hackney'),\n",
       " Text(1, 0, 'Waltham Forest'),\n",
       " Text(2, 0, 'Southwark'),\n",
       " Text(3, 0, 'Lewisham'),\n",
       " Text(4, 0, 'Westminster'),\n",
       " Text(5, 0, 'Newham'),\n",
       " Text(6, 0, 'City of London'),\n",
       " Text(7, 0, 'Haringey'),\n",
       " Text(8, 0, 'Kensington & Chelsea'),\n",
       " Text(9, 0, 'Lambeth'),\n",
       " Text(10, 0, 'Camden'),\n",
       " Text(11, 0, 'Barking & Dagenham'),\n",
       " Text(12, 0, 'Brent'),\n",
       " Text(13, 0, 'Islington'),\n",
       " Text(14, 0, 'Greenwich')]"
      ]
     },
     "execution_count": 11,
     "metadata": {},
     "output_type": "execute_result"
    },
    {
     "data": {
      "image/png": "[encoded data removed]",
      "text/plain": [
       "<Figure size 432x288 with 1 Axes>"
      ]
     },
     "metadata": {
      "needs_background": "light"
     },
     "output_type": "display_data"
    }
   ],
   "source": [
    "def create_price_ratio(d):\n",
    "    y1998 = float(d['Average_price'][d['Year']==1998])\n",
    "    y2018 = float(d['Average_price'][d['Year']==2018])\n",
    "    ratio = [y2018/y1998]\n",
    "    return ratio\n",
    "create_price_ratio(dfg[dfg['London_Borough']=='Barking & Dagenham'])\n",
    "final = {}\n",
    "for b in dfg['London_Borough'].unique():\n",
    "    borough = dfg[dfg['London_Borough'] == b]\n",
    "    final[b] = create_price_ratio(borough)\n",
    "print(final) \n",
    "df_ratios = pd.DataFrame(final)\n",
    "df_ratios.head()\n",
    "df_ratios_T = df_ratios.T\n",
    "df_ratios = df_ratios_T.reset_index()\n",
    "df_ratios.head()\n",
    "df_ratios.rename(columns={'index':'Borough', 0:'2018'}, inplace=True)\n",
    "df_ratios.head()\n",
    "top15 = df_ratios.sort_values(by='2018',ascending=False).head(15)\n",
    "print(top15)\n",
    "ax = top15[['Borough','2018']].plot(kind='bar')\n",
    "ax.set_xticklabels(top15.Borough)\n"
   ]
  },
  {
   "cell_type": "markdown",
   "metadata": {
    "colab_type": "text",
    "id": "NzYUI7FxJpgv"
   },
   "source": [
    "### 4. Conclusion\n",
    "What can you conclude? Type out your conclusion below. \n",
    "\n",
    "Look back at your notebook. Think about how you might summarize what you have done, and prepare a quick presentation on it to your mentor at your next meeting. \n",
    "\n",
    "We hope you enjoyed this practical project. It should have consolidated your data hygiene and pandas skills by looking at a real-world problem involving just the kind of dataset you might encounter as a budding data scientist. Congratulations, and looking forward to seeing you at the next step in the course! "
   ]
  },
  {
   "cell_type": "markdown",
   "metadata": {},
   "source": [
    "I there for conlude that Hackney Bourghs of London have seen the greatest increse in housing price, over the last two decades."
   ]
  }
 ],
 "metadata": {
  "colab": {
   "collapsed_sections": [],
   "name": "Springboard Data Science Career Track Unit 4 Challenge - Tier 3 Complete .ipynb",
   "provenance": []
  },
  "kernelspec": {
   "display_name": "Python 3 (ipykernel)",
   "language": "python",
   "name": "python3"
  },
  "language_info": {
   "codemirror_mode": {
    "name": "ipython",
    "version": 3
   },
   "file_extension": ".py",
   "mimetype": "text/x-python",
   "name": "python",
   "nbconvert_exporter": "python",
   "pygments_lexer": "ipython3",
   "version": "3.9.12"
  }
 },
 "nbformat": 4,
 "nbformat_minor": 1
}
